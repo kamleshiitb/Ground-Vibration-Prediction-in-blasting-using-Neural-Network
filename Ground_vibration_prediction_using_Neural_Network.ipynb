{
  "nbformat": 4,
  "nbformat_minor": 0,
  "metadata": {
    "colab": {
      "name": "Ground vibration prediction using Neural Network.ipynb",
      "provenance": [],
      "collapsed_sections": []
    },
    "kernelspec": {
      "name": "python3",
      "display_name": "Python 3"
    },
    "language_info": {
      "name": "python"
    }
  },
  "cells": [
    {
      "cell_type": "markdown",
      "metadata": {
        "id": "WmUPWog68wJm"
      },
      "source": [
        "**Ground Vibration Prediction using Neural Network**"
      ]
    },
    {
      "cell_type": "code",
      "metadata": {
        "colab": {
          "base_uri": "https://localhost:8080/"
        },
        "id": "Ll-MdRdKg3In",
        "outputId": "729eedac-61f6-412a-d867-1c5c109d343f"
      },
      "source": [
        "#mount/ connect the google drive with google colab\n",
        "from google.colab import drive\n",
        "drive.mount('/content/drive')"
      ],
      "execution_count": 59,
      "outputs": [
        {
          "output_type": "stream",
          "text": [
            "Drive already mounted at /content/drive; to attempt to forcibly remount, call drive.mount(\"/content/drive\", force_remount=True).\n"
          ],
          "name": "stdout"
        }
      ]
    },
    {
      "cell_type": "code",
      "metadata": {
        "id": "iYhrYZxBiE33"
      },
      "source": [
        "#import the required libraries\n",
        "import pandas as pd\n",
        "import numpy as np\n",
        "import matplotlib.pyplot as plt\n",
        "import sklearn\n",
        "from tensorflow import keras\n",
        "from sklearn.preprocessing import StandardScaler\n",
        "from sklearn.model_selection import train_test_split\n",
        "from keras.models import Sequential\n",
        "from keras.layers import  Dense"
      ],
      "execution_count": 60,
      "outputs": []
    },
    {
      "cell_type": "code",
      "metadata": {
        "colab": {
          "base_uri": "https://localhost:8080/",
          "height": 393
        },
        "id": "vuYAgd7uh8re",
        "outputId": "6a88fcba-53f4-4855-8e42-03576095d355"
      },
      "source": [
        "#load the ground vibration dataset\n",
        "dataset = pd.read_csv('/content/drive/MyDrive/Blasting dataset.csv')\n",
        "dataset.head(10)"
      ],
      "execution_count": 61,
      "outputs": [
        {
          "output_type": "execute_result",
          "data": {
            "text/html": [
              "<div>\n",
              "<style scoped>\n",
              "    .dataframe tbody tr th:only-of-type {\n",
              "        vertical-align: middle;\n",
              "    }\n",
              "\n",
              "    .dataframe tbody tr th {\n",
              "        vertical-align: top;\n",
              "    }\n",
              "\n",
              "    .dataframe thead th {\n",
              "        text-align: right;\n",
              "    }\n",
              "</style>\n",
              "<table border=\"1\" class=\"dataframe\">\n",
              "  <thead>\n",
              "    <tr style=\"text-align: right;\">\n",
              "      <th></th>\n",
              "      <th>TIME(Hrs)</th>\n",
              "      <th>Hole (Nos)</th>\n",
              "      <th>Depth (m)</th>\n",
              "      <th>Spacing(m)</th>\n",
              "      <th>Burden (m)</th>\n",
              "      <th>Stemming(m)</th>\n",
              "      <th>Decking(m)</th>\n",
              "      <th>Total Drill (RMT)</th>\n",
              "      <th>Explosive(kg)</th>\n",
              "      <th>Volume(m3)</th>\n",
              "      <th>Powder Factor(kg/m3)</th>\n",
              "      <th>Av. CPH</th>\n",
              "      <th>MCPD (kg/D)</th>\n",
              "      <th>PPV MON</th>\n",
              "      <th>Seis. Dist. (m)</th>\n",
              "      <th>A.O.P (dBL)</th>\n",
              "    </tr>\n",
              "  </thead>\n",
              "  <tbody>\n",
              "    <tr>\n",
              "      <th>0</th>\n",
              "      <td>5.04PM</td>\n",
              "      <td>69</td>\n",
              "      <td>11</td>\n",
              "      <td>3.0</td>\n",
              "      <td>3.0</td>\n",
              "      <td>3</td>\n",
              "      <td>1/1.5M</td>\n",
              "      <td>850</td>\n",
              "      <td>3875.00</td>\n",
              "      <td>6831.00</td>\n",
              "      <td>0.57</td>\n",
              "      <td>56.52</td>\n",
              "      <td>113</td>\n",
              "      <td>10.5</td>\n",
              "      <td>360.0</td>\n",
              "      <td>115.8</td>\n",
              "    </tr>\n",
              "    <tr>\n",
              "      <th>1</th>\n",
              "      <td>5.36PM</td>\n",
              "      <td>30</td>\n",
              "      <td>7.5</td>\n",
              "      <td>3.2</td>\n",
              "      <td>2.8</td>\n",
              "      <td>3</td>\n",
              "      <td>NIL</td>\n",
              "      <td>225</td>\n",
              "      <td>1050.00</td>\n",
              "      <td>2016.00</td>\n",
              "      <td>0.52</td>\n",
              "      <td>35.00</td>\n",
              "      <td>35</td>\n",
              "      <td>2.75</td>\n",
              "      <td>315.0</td>\n",
              "      <td>101.4</td>\n",
              "    </tr>\n",
              "    <tr>\n",
              "      <th>2</th>\n",
              "      <td>5.07PM</td>\n",
              "      <td>33</td>\n",
              "      <td>4.5</td>\n",
              "      <td>3.0</td>\n",
              "      <td>3.0</td>\n",
              "      <td>2.5</td>\n",
              "      <td>NIL</td>\n",
              "      <td>148.5</td>\n",
              "      <td>469.46</td>\n",
              "      <td>1336.50</td>\n",
              "      <td>0.35</td>\n",
              "      <td>14.22</td>\n",
              "      <td>28.44</td>\n",
              "      <td>1.45</td>\n",
              "      <td>410.0</td>\n",
              "      <td>131.1</td>\n",
              "    </tr>\n",
              "    <tr>\n",
              "      <th>3</th>\n",
              "      <td>5.06PM</td>\n",
              "      <td>30</td>\n",
              "      <td>6,7</td>\n",
              "      <td>3.5</td>\n",
              "      <td>2.8</td>\n",
              "      <td>3</td>\n",
              "      <td>NIL</td>\n",
              "      <td>214</td>\n",
              "      <td>659.00</td>\n",
              "      <td>1969.80</td>\n",
              "      <td>0.33</td>\n",
              "      <td>21.66</td>\n",
              "      <td>43.33</td>\n",
              "      <td>0.992</td>\n",
              "      <td>465.0</td>\n",
              "      <td>118.3</td>\n",
              "    </tr>\n",
              "    <tr>\n",
              "      <th>4</th>\n",
              "      <td>5.07PM</td>\n",
              "      <td>21</td>\n",
              "      <td>6,7</td>\n",
              "      <td>3.8</td>\n",
              "      <td>3.0</td>\n",
              "      <td>2.5</td>\n",
              "      <td>NIL</td>\n",
              "      <td>140</td>\n",
              "      <td>525.00</td>\n",
              "      <td>1603.98</td>\n",
              "      <td>0.32</td>\n",
              "      <td>25.00</td>\n",
              "      <td>50</td>\n",
              "      <td>5.12</td>\n",
              "      <td>290.0</td>\n",
              "      <td>140.5</td>\n",
              "    </tr>\n",
              "    <tr>\n",
              "      <th>5</th>\n",
              "      <td>1.28PM</td>\n",
              "      <td>34</td>\n",
              "      <td>15</td>\n",
              "      <td>4.2</td>\n",
              "      <td>3.2</td>\n",
              "      <td>3</td>\n",
              "      <td>2/1.5M</td>\n",
              "      <td>510</td>\n",
              "      <td>2800.00</td>\n",
              "      <td>6854.40</td>\n",
              "      <td>0.41</td>\n",
              "      <td>82.45</td>\n",
              "      <td>82.45</td>\n",
              "      <td>9.09</td>\n",
              "      <td>310.0</td>\n",
              "      <td>125.1</td>\n",
              "    </tr>\n",
              "    <tr>\n",
              "      <th>6</th>\n",
              "      <td>1.31PM</td>\n",
              "      <td>30</td>\n",
              "      <td>5.5</td>\n",
              "      <td>3.2</td>\n",
              "      <td>2.8</td>\n",
              "      <td>3</td>\n",
              "      <td>NIL</td>\n",
              "      <td>171</td>\n",
              "      <td>700.00</td>\n",
              "      <td>1568.00</td>\n",
              "      <td>0.45</td>\n",
              "      <td>23.33</td>\n",
              "      <td>23.33</td>\n",
              "      <td>6.86</td>\n",
              "      <td>400.0</td>\n",
              "      <td>116</td>\n",
              "    </tr>\n",
              "    <tr>\n",
              "      <th>7</th>\n",
              "      <td>1.30PM</td>\n",
              "      <td>44</td>\n",
              "      <td>5,6</td>\n",
              "      <td>3.0</td>\n",
              "      <td>2.5</td>\n",
              "      <td>3</td>\n",
              "      <td>NIL</td>\n",
              "      <td>262</td>\n",
              "      <td>875.00</td>\n",
              "      <td>1965.00</td>\n",
              "      <td>0.44</td>\n",
              "      <td>19.88</td>\n",
              "      <td>39.77</td>\n",
              "      <td>1.44</td>\n",
              "      <td>480.0</td>\n",
              "      <td>111.6</td>\n",
              "    </tr>\n",
              "    <tr>\n",
              "      <th>8</th>\n",
              "      <td>1.26PM</td>\n",
              "      <td>35</td>\n",
              "      <td>15</td>\n",
              "      <td>3.0</td>\n",
              "      <td>3.0</td>\n",
              "      <td>3</td>\n",
              "      <td>2/1.5M</td>\n",
              "      <td>550</td>\n",
              "      <td>2750.00</td>\n",
              "      <td>4725.00</td>\n",
              "      <td>0.57</td>\n",
              "      <td>78.57</td>\n",
              "      <td>157.14</td>\n",
              "      <td>0.579</td>\n",
              "      <td>465.0</td>\n",
              "      <td>83.4</td>\n",
              "    </tr>\n",
              "    <tr>\n",
              "      <th>9</th>\n",
              "      <td>1.23PM</td>\n",
              "      <td>28</td>\n",
              "      <td>10</td>\n",
              "      <td>3.5</td>\n",
              "      <td>3.0</td>\n",
              "      <td>3</td>\n",
              "      <td>1/1.5M</td>\n",
              "      <td>280</td>\n",
              "      <td>1275.00</td>\n",
              "      <td>2940.00</td>\n",
              "      <td>0.47</td>\n",
              "      <td>45.53</td>\n",
              "      <td>45.53</td>\n",
              "      <td>0.659</td>\n",
              "      <td>485.0</td>\n",
              "      <td>81.4</td>\n",
              "    </tr>\n",
              "  </tbody>\n",
              "</table>\n",
              "</div>"
            ],
            "text/plain": [
              "  TIME(Hrs)  Hole (Nos) Depth (m)  ...  PPV MON  Seis. Dist. (m) A.O.P (dBL)\n",
              "0    5.04PM          69        11  ...     10.5            360.0       115.8\n",
              "1    5.36PM          30       7.5  ...     2.75            315.0       101.4\n",
              "2    5.07PM          33       4.5  ...     1.45            410.0       131.1\n",
              "3    5.06PM          30       6,7  ...    0.992            465.0       118.3\n",
              "4    5.07PM          21       6,7  ...     5.12            290.0       140.5\n",
              "5    1.28PM          34        15  ...     9.09            310.0       125.1\n",
              "6    1.31PM          30       5.5  ...     6.86            400.0         116\n",
              "7    1.30PM          44       5,6  ...     1.44            480.0       111.6\n",
              "8    1.26PM          35        15  ...    0.579            465.0        83.4\n",
              "9    1.23PM          28        10  ...    0.659            485.0        81.4\n",
              "\n",
              "[10 rows x 16 columns]"
            ]
          },
          "metadata": {
            "tags": []
          },
          "execution_count": 61
        }
      ]
    },
    {
      "cell_type": "markdown",
      "metadata": {
        "id": "sb5bP4TD8_76"
      },
      "source": [
        "**Data Preprocessing**"
      ]
    },
    {
      "cell_type": "code",
      "metadata": {
        "colab": {
          "base_uri": "https://localhost:8080/"
        },
        "id": "hWOlRM2djkXL",
        "outputId": "4816595c-81ab-455c-c3e5-c6169b1dd9d1"
      },
      "source": [
        "# print the columns of the dataset\n",
        "print(dataset.columns)"
      ],
      "execution_count": 62,
      "outputs": [
        {
          "output_type": "stream",
          "text": [
            "Index(['TIME(Hrs)', 'Hole (Nos)', 'Depth (m)', 'Spacing(m)', 'Burden (m)',\n",
            "       'Stemming(m)', ' Decking(m)', 'Total Drill (RMT)', 'Explosive(kg)',\n",
            "       'Volume(m3)', 'Powder Factor(kg/m3)', 'Av. CPH', 'MCPD (kg/D)',\n",
            "       'PPV MON', 'Seis. Dist. (m)', 'A.O.P (dBL)'],\n",
            "      dtype='object')\n"
          ],
          "name": "stdout"
        }
      ]
    },
    {
      "cell_type": "code",
      "metadata": {
        "colab": {
          "base_uri": "https://localhost:8080/",
          "height": 419
        },
        "id": "6bDJTbNJjfiR",
        "outputId": "9c4300c6-f0c9-4041-fd47-edd253296050"
      },
      "source": [
        "# selected the relavent columns for analysis\n",
        "features_name = ['Spacing(m)','Burden (m)','Powder Factor(kg/m3)','MCPD (kg/D)','Seis. Dist. (m)','PPV MON']\n",
        "df = dataset[features_name]\n",
        "df"
      ],
      "execution_count": 63,
      "outputs": [
        {
          "output_type": "execute_result",
          "data": {
            "text/html": [
              "<div>\n",
              "<style scoped>\n",
              "    .dataframe tbody tr th:only-of-type {\n",
              "        vertical-align: middle;\n",
              "    }\n",
              "\n",
              "    .dataframe tbody tr th {\n",
              "        vertical-align: top;\n",
              "    }\n",
              "\n",
              "    .dataframe thead th {\n",
              "        text-align: right;\n",
              "    }\n",
              "</style>\n",
              "<table border=\"1\" class=\"dataframe\">\n",
              "  <thead>\n",
              "    <tr style=\"text-align: right;\">\n",
              "      <th></th>\n",
              "      <th>Spacing(m)</th>\n",
              "      <th>Burden (m)</th>\n",
              "      <th>Powder Factor(kg/m3)</th>\n",
              "      <th>MCPD (kg/D)</th>\n",
              "      <th>Seis. Dist. (m)</th>\n",
              "      <th>PPV MON</th>\n",
              "    </tr>\n",
              "  </thead>\n",
              "  <tbody>\n",
              "    <tr>\n",
              "      <th>0</th>\n",
              "      <td>3.0</td>\n",
              "      <td>3.0</td>\n",
              "      <td>0.57</td>\n",
              "      <td>113</td>\n",
              "      <td>360.00</td>\n",
              "      <td>10.5</td>\n",
              "    </tr>\n",
              "    <tr>\n",
              "      <th>1</th>\n",
              "      <td>3.2</td>\n",
              "      <td>2.8</td>\n",
              "      <td>0.52</td>\n",
              "      <td>35</td>\n",
              "      <td>315.00</td>\n",
              "      <td>2.75</td>\n",
              "    </tr>\n",
              "    <tr>\n",
              "      <th>2</th>\n",
              "      <td>3.0</td>\n",
              "      <td>3.0</td>\n",
              "      <td>0.35</td>\n",
              "      <td>28.44</td>\n",
              "      <td>410.00</td>\n",
              "      <td>1.45</td>\n",
              "    </tr>\n",
              "    <tr>\n",
              "      <th>3</th>\n",
              "      <td>3.5</td>\n",
              "      <td>2.8</td>\n",
              "      <td>0.33</td>\n",
              "      <td>43.33</td>\n",
              "      <td>465.00</td>\n",
              "      <td>0.992</td>\n",
              "    </tr>\n",
              "    <tr>\n",
              "      <th>4</th>\n",
              "      <td>3.8</td>\n",
              "      <td>3.0</td>\n",
              "      <td>0.32</td>\n",
              "      <td>50</td>\n",
              "      <td>290.00</td>\n",
              "      <td>5.12</td>\n",
              "    </tr>\n",
              "    <tr>\n",
              "      <th>...</th>\n",
              "      <td>...</td>\n",
              "      <td>...</td>\n",
              "      <td>...</td>\n",
              "      <td>...</td>\n",
              "      <td>...</td>\n",
              "      <td>...</td>\n",
              "    </tr>\n",
              "    <tr>\n",
              "      <th>988</th>\n",
              "      <td>3.6</td>\n",
              "      <td>3.2</td>\n",
              "      <td>0.54</td>\n",
              "      <td>250</td>\n",
              "      <td>3.94</td>\n",
              "      <td>300</td>\n",
              "    </tr>\n",
              "    <tr>\n",
              "      <th>989</th>\n",
              "      <td>3.6</td>\n",
              "      <td>3.2</td>\n",
              "      <td>0.54</td>\n",
              "      <td>186.78</td>\n",
              "      <td>3.18</td>\n",
              "      <td>400</td>\n",
              "    </tr>\n",
              "    <tr>\n",
              "      <th>990</th>\n",
              "      <td>3.5</td>\n",
              "      <td>3.0</td>\n",
              "      <td>0.58</td>\n",
              "      <td>116.66</td>\n",
              "      <td>9.40</td>\n",
              "      <td>280</td>\n",
              "    </tr>\n",
              "    <tr>\n",
              "      <th>991</th>\n",
              "      <td>3.5</td>\n",
              "      <td>3.0</td>\n",
              "      <td>0.62</td>\n",
              "      <td>104.16</td>\n",
              "      <td>13.70</td>\n",
              "      <td>230</td>\n",
              "    </tr>\n",
              "    <tr>\n",
              "      <th>992</th>\n",
              "      <td>2.8</td>\n",
              "      <td>2.5</td>\n",
              "      <td>0.39</td>\n",
              "      <td>13.88</td>\n",
              "      <td>13.70</td>\n",
              "      <td>235</td>\n",
              "    </tr>\n",
              "  </tbody>\n",
              "</table>\n",
              "<p>993 rows × 6 columns</p>\n",
              "</div>"
            ],
            "text/plain": [
              "     Spacing(m)  Burden (m)  ...  Seis. Dist. (m) PPV MON\n",
              "0           3.0         3.0  ...           360.00    10.5\n",
              "1           3.2         2.8  ...           315.00    2.75\n",
              "2           3.0         3.0  ...           410.00    1.45\n",
              "3           3.5         2.8  ...           465.00   0.992\n",
              "4           3.8         3.0  ...           290.00    5.12\n",
              "..          ...         ...  ...              ...     ...\n",
              "988         3.6         3.2  ...             3.94     300\n",
              "989         3.6         3.2  ...             3.18     400\n",
              "990         3.5         3.0  ...             9.40     280\n",
              "991         3.5         3.0  ...            13.70     230\n",
              "992         2.8         2.5  ...            13.70     235\n",
              "\n",
              "[993 rows x 6 columns]"
            ]
          },
          "metadata": {
            "tags": []
          },
          "execution_count": 63
        }
      ]
    },
    {
      "cell_type": "code",
      "metadata": {
        "id": "X2JeaXy4lph6",
        "colab": {
          "base_uri": "https://localhost:8080/",
          "height": 359
        },
        "outputId": "cf01567b-2878-4c11-b1cf-4751283c54d4"
      },
      "source": [
        "# rename the columns\n",
        "df =df.rename(columns={'Seis. Dist. (m)': 'Distance', 'PPV MON': \"Vibration\"})\n",
        "df.head(10)"
      ],
      "execution_count": 64,
      "outputs": [
        {
          "output_type": "execute_result",
          "data": {
            "text/html": [
              "<div>\n",
              "<style scoped>\n",
              "    .dataframe tbody tr th:only-of-type {\n",
              "        vertical-align: middle;\n",
              "    }\n",
              "\n",
              "    .dataframe tbody tr th {\n",
              "        vertical-align: top;\n",
              "    }\n",
              "\n",
              "    .dataframe thead th {\n",
              "        text-align: right;\n",
              "    }\n",
              "</style>\n",
              "<table border=\"1\" class=\"dataframe\">\n",
              "  <thead>\n",
              "    <tr style=\"text-align: right;\">\n",
              "      <th></th>\n",
              "      <th>Spacing(m)</th>\n",
              "      <th>Burden (m)</th>\n",
              "      <th>Powder Factor(kg/m3)</th>\n",
              "      <th>MCPD (kg/D)</th>\n",
              "      <th>Distance</th>\n",
              "      <th>Vibration</th>\n",
              "    </tr>\n",
              "  </thead>\n",
              "  <tbody>\n",
              "    <tr>\n",
              "      <th>0</th>\n",
              "      <td>3.0</td>\n",
              "      <td>3.0</td>\n",
              "      <td>0.57</td>\n",
              "      <td>113</td>\n",
              "      <td>360.0</td>\n",
              "      <td>10.5</td>\n",
              "    </tr>\n",
              "    <tr>\n",
              "      <th>1</th>\n",
              "      <td>3.2</td>\n",
              "      <td>2.8</td>\n",
              "      <td>0.52</td>\n",
              "      <td>35</td>\n",
              "      <td>315.0</td>\n",
              "      <td>2.75</td>\n",
              "    </tr>\n",
              "    <tr>\n",
              "      <th>2</th>\n",
              "      <td>3.0</td>\n",
              "      <td>3.0</td>\n",
              "      <td>0.35</td>\n",
              "      <td>28.44</td>\n",
              "      <td>410.0</td>\n",
              "      <td>1.45</td>\n",
              "    </tr>\n",
              "    <tr>\n",
              "      <th>3</th>\n",
              "      <td>3.5</td>\n",
              "      <td>2.8</td>\n",
              "      <td>0.33</td>\n",
              "      <td>43.33</td>\n",
              "      <td>465.0</td>\n",
              "      <td>0.992</td>\n",
              "    </tr>\n",
              "    <tr>\n",
              "      <th>4</th>\n",
              "      <td>3.8</td>\n",
              "      <td>3.0</td>\n",
              "      <td>0.32</td>\n",
              "      <td>50</td>\n",
              "      <td>290.0</td>\n",
              "      <td>5.12</td>\n",
              "    </tr>\n",
              "    <tr>\n",
              "      <th>5</th>\n",
              "      <td>4.2</td>\n",
              "      <td>3.2</td>\n",
              "      <td>0.41</td>\n",
              "      <td>82.45</td>\n",
              "      <td>310.0</td>\n",
              "      <td>9.09</td>\n",
              "    </tr>\n",
              "    <tr>\n",
              "      <th>6</th>\n",
              "      <td>3.2</td>\n",
              "      <td>2.8</td>\n",
              "      <td>0.45</td>\n",
              "      <td>23.33</td>\n",
              "      <td>400.0</td>\n",
              "      <td>6.86</td>\n",
              "    </tr>\n",
              "    <tr>\n",
              "      <th>7</th>\n",
              "      <td>3.0</td>\n",
              "      <td>2.5</td>\n",
              "      <td>0.44</td>\n",
              "      <td>39.77</td>\n",
              "      <td>480.0</td>\n",
              "      <td>1.44</td>\n",
              "    </tr>\n",
              "    <tr>\n",
              "      <th>8</th>\n",
              "      <td>3.0</td>\n",
              "      <td>3.0</td>\n",
              "      <td>0.57</td>\n",
              "      <td>157.14</td>\n",
              "      <td>465.0</td>\n",
              "      <td>0.579</td>\n",
              "    </tr>\n",
              "    <tr>\n",
              "      <th>9</th>\n",
              "      <td>3.5</td>\n",
              "      <td>3.0</td>\n",
              "      <td>0.47</td>\n",
              "      <td>45.53</td>\n",
              "      <td>485.0</td>\n",
              "      <td>0.659</td>\n",
              "    </tr>\n",
              "  </tbody>\n",
              "</table>\n",
              "</div>"
            ],
            "text/plain": [
              "   Spacing(m)  Burden (m)  Powder Factor(kg/m3) MCPD (kg/D)  Distance Vibration\n",
              "0         3.0         3.0                  0.57         113     360.0      10.5\n",
              "1         3.2         2.8                  0.52          35     315.0      2.75\n",
              "2         3.0         3.0                  0.35       28.44     410.0      1.45\n",
              "3         3.5         2.8                  0.33       43.33     465.0     0.992\n",
              "4         3.8         3.0                  0.32          50     290.0      5.12\n",
              "5         4.2         3.2                  0.41       82.45     310.0      9.09\n",
              "6         3.2         2.8                  0.45       23.33     400.0      6.86\n",
              "7         3.0         2.5                  0.44       39.77     480.0      1.44\n",
              "8         3.0         3.0                  0.57      157.14     465.0     0.579\n",
              "9         3.5         3.0                  0.47       45.53     485.0     0.659"
            ]
          },
          "metadata": {
            "tags": []
          },
          "execution_count": 64
        }
      ]
    },
    {
      "cell_type": "code",
      "metadata": {
        "id": "xfo6GlJqmcJs",
        "colab": {
          "base_uri": "https://localhost:8080/"
        },
        "outputId": "0e0dccda-231a-4722-8147-73538cc09fac"
      },
      "source": [
        "# check the null vales and count the null values\n",
        "df.isnull().sum()"
      ],
      "execution_count": 65,
      "outputs": [
        {
          "output_type": "execute_result",
          "data": {
            "text/plain": [
              "Spacing(m)               0\n",
              "Burden (m)               0\n",
              "Powder Factor(kg/m3)     0\n",
              "MCPD (kg/D)              1\n",
              "Distance                63\n",
              "Vibration               98\n",
              "dtype: int64"
            ]
          },
          "metadata": {
            "tags": []
          },
          "execution_count": 65
        }
      ]
    },
    {
      "cell_type": "code",
      "metadata": {
        "id": "S56H71SKnWj8"
      },
      "source": [
        "# drop the rows which contains 'NaN' values\n",
        "df =df.replace(\"NA\", \" \")\n",
        "df =df.replace(' NA', \" \")\n",
        "df = df.replace(r'^\\s*$', np.nan, regex=True)\n",
        "blast_data =df.dropna( axis=0)"
      ],
      "execution_count": 66,
      "outputs": []
    },
    {
      "cell_type": "code",
      "metadata": {
        "id": "xQMik8Z8okeM",
        "colab": {
          "base_uri": "https://localhost:8080/"
        },
        "outputId": "6eb3bf9b-5cc1-4f75-c36f-a022ccb80583"
      },
      "source": [
        "# shown the dataset information\n",
        "blast_data.info()\n"
      ],
      "execution_count": 67,
      "outputs": [
        {
          "output_type": "stream",
          "text": [
            "<class 'pandas.core.frame.DataFrame'>\n",
            "Int64Index: 891 entries, 0 to 992\n",
            "Data columns (total 6 columns):\n",
            " #   Column                Non-Null Count  Dtype  \n",
            "---  ------                --------------  -----  \n",
            " 0   Spacing(m)            891 non-null    float64\n",
            " 1   Burden (m)            891 non-null    float64\n",
            " 2   Powder Factor(kg/m3)  891 non-null    float64\n",
            " 3   MCPD (kg/D)           891 non-null    object \n",
            " 4   Distance              891 non-null    float64\n",
            " 5   Vibration             891 non-null    object \n",
            "dtypes: float64(4), object(2)\n",
            "memory usage: 48.7+ KB\n"
          ],
          "name": "stdout"
        }
      ]
    },
    {
      "cell_type": "code",
      "metadata": {
        "id": "NxF3M7_lfFM_"
      },
      "source": [
        "#convert the objects type to float type dataset\n",
        "blast_data=blast_data.astype(float)\n"
      ],
      "execution_count": 68,
      "outputs": []
    },
    {
      "cell_type": "code",
      "metadata": {
        "colab": {
          "base_uri": "https://localhost:8080/",
          "height": 297
        },
        "id": "paa7wIsEe3fb",
        "outputId": "d60a21fa-9b90-400d-8694-d3513a160381"
      },
      "source": [
        "# showing the statistical parameters\n",
        "blast_data.describe()"
      ],
      "execution_count": 69,
      "outputs": [
        {
          "output_type": "execute_result",
          "data": {
            "text/html": [
              "<div>\n",
              "<style scoped>\n",
              "    .dataframe tbody tr th:only-of-type {\n",
              "        vertical-align: middle;\n",
              "    }\n",
              "\n",
              "    .dataframe tbody tr th {\n",
              "        vertical-align: top;\n",
              "    }\n",
              "\n",
              "    .dataframe thead th {\n",
              "        text-align: right;\n",
              "    }\n",
              "</style>\n",
              "<table border=\"1\" class=\"dataframe\">\n",
              "  <thead>\n",
              "    <tr style=\"text-align: right;\">\n",
              "      <th></th>\n",
              "      <th>Spacing(m)</th>\n",
              "      <th>Burden (m)</th>\n",
              "      <th>Powder Factor(kg/m3)</th>\n",
              "      <th>MCPD (kg/D)</th>\n",
              "      <th>Distance</th>\n",
              "      <th>Vibration</th>\n",
              "    </tr>\n",
              "  </thead>\n",
              "  <tbody>\n",
              "    <tr>\n",
              "      <th>count</th>\n",
              "      <td>891.000000</td>\n",
              "      <td>891.000000</td>\n",
              "      <td>891.000000</td>\n",
              "      <td>891.000000</td>\n",
              "      <td>891.000000</td>\n",
              "      <td>891.000000</td>\n",
              "    </tr>\n",
              "    <tr>\n",
              "      <th>mean</th>\n",
              "      <td>3.325477</td>\n",
              "      <td>2.936195</td>\n",
              "      <td>0.511576</td>\n",
              "      <td>95.640897</td>\n",
              "      <td>348.873871</td>\n",
              "      <td>29.940638</td>\n",
              "    </tr>\n",
              "    <tr>\n",
              "      <th>std</th>\n",
              "      <td>0.400788</td>\n",
              "      <td>0.255776</td>\n",
              "      <td>0.288460</td>\n",
              "      <td>69.219617</td>\n",
              "      <td>121.410182</td>\n",
              "      <td>100.768334</td>\n",
              "    </tr>\n",
              "    <tr>\n",
              "      <th>min</th>\n",
              "      <td>1.000000</td>\n",
              "      <td>0.900000</td>\n",
              "      <td>0.090000</td>\n",
              "      <td>5.000000</td>\n",
              "      <td>0.508000</td>\n",
              "      <td>0.039700</td>\n",
              "    </tr>\n",
              "    <tr>\n",
              "      <th>25%</th>\n",
              "      <td>3.000000</td>\n",
              "      <td>2.800000</td>\n",
              "      <td>0.440000</td>\n",
              "      <td>42.500000</td>\n",
              "      <td>310.500000</td>\n",
              "      <td>1.360000</td>\n",
              "    </tr>\n",
              "    <tr>\n",
              "      <th>50%</th>\n",
              "      <td>3.200000</td>\n",
              "      <td>3.000000</td>\n",
              "      <td>0.510000</td>\n",
              "      <td>77.380000</td>\n",
              "      <td>370.000000</td>\n",
              "      <td>2.410000</td>\n",
              "    </tr>\n",
              "    <tr>\n",
              "      <th>75%</th>\n",
              "      <td>3.500000</td>\n",
              "      <td>3.000000</td>\n",
              "      <td>0.570000</td>\n",
              "      <td>134.310000</td>\n",
              "      <td>410.000000</td>\n",
              "      <td>4.700000</td>\n",
              "    </tr>\n",
              "    <tr>\n",
              "      <th>max</th>\n",
              "      <td>4.300000</td>\n",
              "      <td>4.000000</td>\n",
              "      <td>8.330000</td>\n",
              "      <td>410.000000</td>\n",
              "      <td>740.000000</td>\n",
              "      <td>590.000000</td>\n",
              "    </tr>\n",
              "  </tbody>\n",
              "</table>\n",
              "</div>"
            ],
            "text/plain": [
              "       Spacing(m)  Burden (m)  ...    Distance   Vibration\n",
              "count  891.000000  891.000000  ...  891.000000  891.000000\n",
              "mean     3.325477    2.936195  ...  348.873871   29.940638\n",
              "std      0.400788    0.255776  ...  121.410182  100.768334\n",
              "min      1.000000    0.900000  ...    0.508000    0.039700\n",
              "25%      3.000000    2.800000  ...  310.500000    1.360000\n",
              "50%      3.200000    3.000000  ...  370.000000    2.410000\n",
              "75%      3.500000    3.000000  ...  410.000000    4.700000\n",
              "max      4.300000    4.000000  ...  740.000000  590.000000\n",
              "\n",
              "[8 rows x 6 columns]"
            ]
          },
          "metadata": {
            "tags": []
          },
          "execution_count": 69
        }
      ]
    },
    {
      "cell_type": "code",
      "metadata": {
        "colab": {
          "base_uri": "https://localhost:8080/",
          "height": 279
        },
        "id": "j_qchoT7K5pj",
        "outputId": "cd0337d9-33d6-4b3c-b373-00412188f905"
      },
      "source": [
        "#plot between vibration and burden\n",
        "plt.scatter(blast_data['Burden (m)'], blast_data['Vibration'])\n",
        "plt.xlabel('Burden')\n",
        "plt.ylabel('Ground Vibration')\n",
        "plt.show()"
      ],
      "execution_count": 70,
      "outputs": [
        {
          "output_type": "display_data",
          "data": {
            "image/png": "[encoded data removed]",
            "text/plain": [
              "<Figure size 432x288 with 1 Axes>"
            ]
          },
          "metadata": {
            "tags": [],
            "needs_background": "light"
          }
        }
      ]
    },
    {
      "cell_type": "code",
      "metadata": {
        "colab": {
          "base_uri": "https://localhost:8080/",
          "height": 279
        },
        "id": "4H8XcC6vMH8V",
        "outputId": "f9dffd30-f92f-4de5-cfec-7f347c5804e8"
      },
      "source": [
        "#plot between vibration and spacing\n",
        "plt.scatter(blast_data['Spacing(m)'], blast_data['Vibration'])\n",
        "plt.xlabel('Spacing')\n",
        "plt.ylabel('Ground Vibration')\n",
        "plt.show()"
      ],
      "execution_count": 71,
      "outputs": [
        {
          "output_type": "display_data",
          "data": {
            "image/png": "[encoded data removed]",
            "text/plain": [
              "<Figure size 432x288 with 1 Axes>"
            ]
          },
          "metadata": {
            "tags": [],
            "needs_background": "light"
          }
        }
      ]
    },
    {
      "cell_type": "code",
      "metadata": {
        "colab": {
          "base_uri": "https://localhost:8080/",
          "height": 279
        },
        "id": "Nw5uLHsgMgmJ",
        "outputId": "93641abe-5a8c-45b9-a553-5aa9cfa8a664"
      },
      "source": [
        "#plot between vibration and powder factor\n",
        "plt.scatter(blast_data['Powder Factor(kg/m3)'], blast_data['Vibration'])\n",
        "plt.xlabel('Powder Factor')\n",
        "plt.ylabel('Ground Vibration')\n",
        "plt.show()"
      ],
      "execution_count": 72,
      "outputs": [
        {
          "output_type": "display_data",
          "data": {
            "image/png": "[encoded data removed]",
            "text/plain": [
              "<Figure size 432x288 with 1 Axes>"
            ]
          },
          "metadata": {
            "tags": [],
            "needs_background": "light"
          }
        }
      ]
    },
    {
      "cell_type": "code",
      "metadata": {
        "colab": {
          "base_uri": "https://localhost:8080/",
          "height": 279
        },
        "id": "RA3nMKg7MuHg",
        "outputId": "b624d256-5624-4532-cae4-10c928c09bf8"
      },
      "source": [
        "#plot between vibration and maximum charge per delay\n",
        "plt.scatter(blast_data['MCPD (kg/D)'], blast_data['Vibration'])\n",
        "plt.xlabel('Max.charge per delay')\n",
        "plt.ylabel('Ground Vibration')\n",
        "plt.show()"
      ],
      "execution_count": 73,
      "outputs": [
        {
          "output_type": "display_data",
          "data": {
            "image/png": "[encoded data removed]",
            "text/plain": [
              "<Figure size 432x288 with 1 Axes>"
            ]
          },
          "metadata": {
            "tags": [],
            "needs_background": "light"
          }
        }
      ]
    },
    {
      "cell_type": "code",
      "metadata": {
        "colab": {
          "base_uri": "https://localhost:8080/",
          "height": 386
        },
        "id": "dDt20-e4Wz9n",
        "outputId": "73b40372-06e4-4267-e533-7c4fef11afa3"
      },
      "source": [
        "#showing the heatmap\n",
        "import seaborn as sns\n",
        "sns.heatmap(blast_data.corr(),annot = True)"
      ],
      "execution_count": 74,
      "outputs": [
        {
          "output_type": "execute_result",
          "data": {
            "text/plain": [
              "<matplotlib.axes._subplots.AxesSubplot at 0x7fb2b42641d0>"
            ]
          },
          "metadata": {
            "tags": []
          },
          "execution_count": 74
        },
        {
          "output_type": "display_data",
          "data": {
            "image/png": "[encoded data removed]",
            "text/plain": [
              "<Figure size 432x288 with 2 Axes>"
            ]
          },
          "metadata": {
            "tags": [],
            "needs_background": "light"
          }
        }
      ]
    },
    {
      "cell_type": "code",
      "metadata": {
        "id": "Qnro8NJ3qole"
      },
      "source": [
        "#changing dataframe to numpy array\n",
        "x = blast_data.iloc[:, :-1].values\n",
        "y = blast_data.iloc[:, -1].values\n"
      ],
      "execution_count": 75,
      "outputs": []
    },
    {
      "cell_type": "code",
      "metadata": {
        "colab": {
          "base_uri": "https://localhost:8080/"
        },
        "id": "lgIdc5RZkrcb",
        "outputId": "9ba1716f-1b43-4a2d-d558-9715d0a9e2bd"
      },
      "source": [
        "# scaled the dataset having mean=0 & standard deviation =1\n",
        "scaler = StandardScaler()\n",
        "x_scaled = scaler.fit_transform(x)\n",
        "print(x_scaled)"
      ],
      "execution_count": 76,
      "outputs": [
        {
          "output_type": "stream",
          "text": [
            "[[-0.81254858  0.24959513  0.20265267  0.25092384  0.09169229]\n",
            " [-0.31325149 -0.53277695  0.02922088 -0.87655722 -0.27916024]\n",
            " [-0.81254858  0.24959513 -0.56044721 -0.97138127  0.50375067]\n",
            " ...\n",
            " [ 0.43569415  0.24959513  0.23733902  0.30382872 -2.79766103]\n",
            " [ 0.43569415  0.24959513  0.37608445  0.12314265 -2.76222401]\n",
            " [-1.31184567 -1.70633507 -0.42170178 -1.1818444  -2.76222401]]\n"
          ],
          "name": "stdout"
        }
      ]
    },
    {
      "cell_type": "code",
      "metadata": {
        "id": "wul-rPx5vgad",
        "colab": {
          "base_uri": "https://localhost:8080/"
        },
        "outputId": "151ba56c-dcff-491f-de09-8e347a3a2cd8"
      },
      "source": [
        "# split the dataset into train and test\n",
        "x_train, x_test, y_train, y_test = train_test_split(x_scaled,y, test_size = 0.15, random_state = 1)\n",
        "print(x_train.shape)\n",
        "print(y_train.shape)\n",
        "print(x_test.shape)\n",
        "print(y_test.shape)\n"
      ],
      "execution_count": 77,
      "outputs": [
        {
          "output_type": "stream",
          "text": [
            "(757, 5)\n",
            "(757,)\n",
            "(134, 5)\n",
            "(134,)\n"
          ],
          "name": "stdout"
        }
      ]
    },
    {
      "cell_type": "markdown",
      "metadata": {
        "id": "grxIfNnS9HWQ"
      },
      "source": [
        "**Neural Network Model**"
      ]
    },
    {
      "cell_type": "code",
      "metadata": {
        "colab": {
          "base_uri": "https://localhost:8080/"
        },
        "id": "IU7nK8eD7C7-",
        "outputId": "5e2e5b75-e6cf-4fc5-a929-aaa780a227a1"
      },
      "source": [
        "# create the neural network model\n",
        "model = Sequential()\n",
        "model.add(Dense(15, activation=\"relu\", input_dim =5))\n",
        "model.add(Dense(20, activation=\"relu\"))\n",
        "model.add(Dense(10, activation=\"relu\"))\n",
        "model.add(Dense(5, activation=\"relu\"))\n",
        "model.add(Dense(1, activation=\"linear\"))\n",
        "model.summary()"
      ],
      "execution_count": 78,
      "outputs": [
        {
          "output_type": "stream",
          "text": [
            "Model: \"sequential_1\"\n",
            "_________________________________________________________________\n",
            "Layer (type)                 Output Shape              Param #   \n",
            "=================================================================\n",
            "dense_5 (Dense)              (None, 15)                90        \n",
            "_________________________________________________________________\n",
            "dense_6 (Dense)              (None, 20)                320       \n",
            "_________________________________________________________________\n",
            "dense_7 (Dense)              (None, 10)                210       \n",
            "_________________________________________________________________\n",
            "dense_8 (Dense)              (None, 5)                 55        \n",
            "_________________________________________________________________\n",
            "dense_9 (Dense)              (None, 1)                 6         \n",
            "=================================================================\n",
            "Total params: 681\n",
            "Trainable params: 681\n",
            "Non-trainable params: 0\n",
            "_________________________________________________________________\n"
          ],
          "name": "stdout"
        }
      ]
    },
    {
      "cell_type": "code",
      "metadata": {
        "id": "aLZI3yHvAPCb"
      },
      "source": [
        "#compile the model with cost and optimiser function\n",
        "model.compile(optimizer=\"adam\", loss='mean_squared_error')\n"
      ],
      "execution_count": 79,
      "outputs": []
    },
    {
      "cell_type": "code",
      "metadata": {
        "colab": {
          "base_uri": "https://localhost:8080/"
        },
        "id": "moDiYOGj9tGP",
        "outputId": "62c5eaf4-ada7-4910-b52e-f04eacd51983"
      },
      "source": [
        "# fit the Neural network\n",
        "model_perform =model.fit(x_train,y_train, epochs=35, steps_per_epoch=60, validation_data = (x_test, y_test), validation_split=0.15)"
      ],
      "execution_count": 80,
      "outputs": [
        {
          "output_type": "stream",
          "text": [
            "Epoch 1/35\n",
            "60/60 [==============================] - 1s 5ms/step - loss: 12525.0125 - val_loss: 7521.3315\n",
            "Epoch 2/35\n",
            "60/60 [==============================] - 0s 1ms/step - loss: 11994.8715 - val_loss: 7394.7349\n",
            "Epoch 3/35\n",
            "60/60 [==============================] - 0s 2ms/step - loss: 10454.9486 - val_loss: 6979.0464\n",
            "Epoch 4/35\n",
            "60/60 [==============================] - 0s 2ms/step - loss: 12214.5020 - val_loss: 5925.3584\n",
            "Epoch 5/35\n",
            "60/60 [==============================] - 0s 1ms/step - loss: 7854.7151 - val_loss: 4400.0928\n",
            "Epoch 6/35\n",
            "60/60 [==============================] - 0s 1ms/step - loss: 6771.2580 - val_loss: 2803.5686\n",
            "Epoch 7/35\n",
            "60/60 [==============================] - 0s 1ms/step - loss: 4653.2590 - val_loss: 1561.3698\n",
            "Epoch 8/35\n",
            "60/60 [==============================] - 0s 1ms/step - loss: 2956.7468 - val_loss: 1008.2300\n",
            "Epoch 9/35\n",
            "60/60 [==============================] - 0s 1ms/step - loss: 1916.5231 - val_loss: 741.7689\n",
            "Epoch 10/35\n",
            "60/60 [==============================] - 0s 2ms/step - loss: 1525.9838 - val_loss: 569.4292\n",
            "Epoch 11/35\n",
            "60/60 [==============================] - 0s 2ms/step - loss: 957.1157 - val_loss: 485.8658\n",
            "Epoch 12/35\n",
            "60/60 [==============================] - 0s 2ms/step - loss: 1097.4503 - val_loss: 403.0902\n",
            "Epoch 13/35\n",
            "60/60 [==============================] - 0s 2ms/step - loss: 792.2710 - val_loss: 371.3993\n",
            "Epoch 14/35\n",
            "60/60 [==============================] - 0s 1ms/step - loss: 685.0986 - val_loss: 333.9948\n",
            "Epoch 15/35\n",
            "60/60 [==============================] - 0s 2ms/step - loss: 985.9090 - val_loss: 320.0140\n",
            "Epoch 16/35\n",
            "60/60 [==============================] - 0s 2ms/step - loss: 740.6985 - val_loss: 290.0581\n",
            "Epoch 17/35\n",
            "60/60 [==============================] - 0s 2ms/step - loss: 741.7640 - val_loss: 289.5924\n",
            "Epoch 18/35\n",
            "60/60 [==============================] - 0s 2ms/step - loss: 1026.2633 - val_loss: 291.7676\n",
            "Epoch 19/35\n",
            "60/60 [==============================] - 0s 2ms/step - loss: 1221.0899 - val_loss: 272.1532\n",
            "Epoch 20/35\n",
            "60/60 [==============================] - 0s 2ms/step - loss: 924.8149 - val_loss: 237.9379\n",
            "Epoch 21/35\n",
            "60/60 [==============================] - 0s 1ms/step - loss: 548.0001 - val_loss: 239.7779\n",
            "Epoch 22/35\n",
            "60/60 [==============================] - 0s 2ms/step - loss: 960.0490 - val_loss: 212.2456\n",
            "Epoch 23/35\n",
            "60/60 [==============================] - 0s 1ms/step - loss: 445.1664 - val_loss: 210.4218\n",
            "Epoch 24/35\n",
            "60/60 [==============================] - 0s 1ms/step - loss: 668.6905 - val_loss: 188.0085\n",
            "Epoch 25/35\n",
            "60/60 [==============================] - 0s 2ms/step - loss: 539.2610 - val_loss: 186.9199\n",
            "Epoch 26/35\n",
            "60/60 [==============================] - 0s 1ms/step - loss: 587.0329 - val_loss: 213.7281\n",
            "Epoch 27/35\n",
            "60/60 [==============================] - 0s 2ms/step - loss: 708.4210 - val_loss: 159.4668\n",
            "Epoch 28/35\n",
            "60/60 [==============================] - 0s 1ms/step - loss: 439.7701 - val_loss: 147.8716\n",
            "Epoch 29/35\n",
            "60/60 [==============================] - 0s 1ms/step - loss: 920.2711 - val_loss: 128.4005\n",
            "Epoch 30/35\n",
            "60/60 [==============================] - 0s 1ms/step - loss: 753.8187 - val_loss: 137.7009\n",
            "Epoch 31/35\n",
            "60/60 [==============================] - 0s 2ms/step - loss: 321.9306 - val_loss: 132.5171\n",
            "Epoch 32/35\n",
            "60/60 [==============================] - 0s 2ms/step - loss: 620.8802 - val_loss: 117.8608\n",
            "Epoch 33/35\n",
            "60/60 [==============================] - 0s 1ms/step - loss: 475.3773 - val_loss: 156.3856\n",
            "Epoch 34/35\n",
            "60/60 [==============================] - 0s 2ms/step - loss: 578.0553 - val_loss: 120.1708\n",
            "Epoch 35/35\n",
            " 1/60 [..............................] - ETA: 0s - loss: 7.6253WARNING:tensorflow:Your input ran out of data; interrupting training. Make sure that your dataset or generator can generate at least `steps_per_epoch * epochs` batches (in this case, 2100 batches). You may need to use the repeat() function when building your dataset.\n",
            "60/60 [==============================] - 0s 1ms/step - loss: 375.4528 - val_loss: 104.5930\n"
          ],
          "name": "stdout"
        }
      ]
    },
    {
      "cell_type": "code",
      "metadata": {
        "colab": {
          "base_uri": "https://localhost:8080/",
          "height": 295
        },
        "id": "6kM0S11_ok5J",
        "outputId": "e65d4ad6-7876-4e52-ced3-2e1f6b223157"
      },
      "source": [
        "plt.plot(model_perform.history['val_loss'], label = \"Validation Loss\")\n",
        "plt.plot(model_perform.history['loss'], label = \"training Loss\")\n",
        "plt.legend()\n",
        "plt.xlabel('Epoch')\n",
        "plt.title('Loss Model ')\n",
        "plt.show()"
      ],
      "execution_count": 81,
      "outputs": [
        {
          "output_type": "display_data",
          "data": {
            "image/png": "[encoded data removed]",
            "text/plain": [
              "<Figure size 432x288 with 1 Axes>"
            ]
          },
          "metadata": {
            "tags": [],
            "needs_background": "light"
          }
        }
      ]
    },
    {
      "cell_type": "code",
      "metadata": {
        "colab": {
          "base_uri": "https://localhost:8080/"
        },
        "id": "aT4WTLaWI8_f",
        "outputId": "1dac5785-6bea-4e8a-a8fb-465014f57f06"
      },
      "source": [
        "# predict the ground vibration\n",
        "y_predict = model.predict(x_test)\n",
        "score = model.evaluate(x_test,y_test)\n",
        "print(score)"
      ],
      "execution_count": 82,
      "outputs": [
        {
          "output_type": "stream",
          "text": [
            "5/5 [==============================] - 0s 2ms/step - loss: 560.3359\n",
            "560.3359375\n"
          ],
          "name": "stdout"
        }
      ]
    },
    {
      "cell_type": "code",
      "metadata": {
        "colab": {
          "base_uri": "https://localhost:8080/",
          "height": 281
        },
        "id": "IvQtpzJydXxa",
        "outputId": "036cacde-afa4-435b-9849-38f0a944367f"
      },
      "source": [
        "# compared predicted and actual vibration\n",
        "plt.plot(y_test, label = \"Actual vibration\")\n",
        "plt.plot(y_predict, label = \"Predicted vibration\")\n",
        "plt.legend()\n",
        "plt.title(\"Result comparasion\")\n",
        "plt.show()"
      ],
      "execution_count": 83,
      "outputs": [
        {
          "output_type": "display_data",
          "data": {
            "image/png": "[encoded data removed]",
            "text/plain": [
              "<Figure size 432x288 with 1 Axes>"
            ]
          },
          "metadata": {
            "tags": [],
            "needs_background": "light"
          }
        }
      ]
    },
    {
      "cell_type": "markdown",
      "metadata": {
        "id": "o3Qlite3bVRM"
      },
      "source": [
        "**Linear Regression Model**\n"
      ]
    },
    {
      "cell_type": "code",
      "metadata": {
        "id": "m6qmU81zV6ix"
      },
      "source": [
        "# import the linear regression model\n",
        "from sklearn.linear_model import LinearRegression"
      ],
      "execution_count": 84,
      "outputs": []
    },
    {
      "cell_type": "code",
      "metadata": {
        "id": "lhZQVPKQV7q5"
      },
      "source": [
        "#load the regression model\n",
        "regress_model = LinearRegression()"
      ],
      "execution_count": 85,
      "outputs": []
    },
    {
      "cell_type": "code",
      "metadata": {
        "id": "xPi4ht8YV_m2"
      },
      "source": [
        "#fit the linear regression model\n",
        "regression_history =regress_model.fit(x_train,y_train)"
      ],
      "execution_count": 86,
      "outputs": []
    },
    {
      "cell_type": "code",
      "metadata": {
        "colab": {
          "base_uri": "https://localhost:8080/"
        },
        "id": "PZ7P9vj0d3Fy",
        "outputId": "e8a08841-8884-4d77-f277-83ffaeb13ef6"
      },
      "source": [
        "# print the y intercept velue\n",
        "print(regression_history.intercept_)"
      ],
      "execution_count": 87,
      "outputs": [
        {
          "output_type": "stream",
          "text": [
            "28.691009581831867\n"
          ],
          "name": "stdout"
        }
      ]
    },
    {
      "cell_type": "code",
      "metadata": {
        "colab": {
          "base_uri": "https://localhost:8080/"
        },
        "id": "BGro3i5kd7jw",
        "outputId": "2dd89360-32f1-42a7-c087-0b40541500cb"
      },
      "source": [
        "# print the coefficent of the line\n",
        "print(regression_history.coef_)"
      ],
      "execution_count": 88,
      "outputs": [
        {
          "output_type": "stream",
          "text": [
            "[ -4.69875775   1.07257783  -1.24904128  20.55022082 -72.5018824 ]\n"
          ],
          "name": "stdout"
        }
      ]
    },
    {
      "cell_type": "code",
      "metadata": {
        "id": "IOh59CuNWDiU"
      },
      "source": [
        "# predicted the ground vibration\n",
        "y_predc_regress = regression_history.predict(x_test)"
      ],
      "execution_count": 89,
      "outputs": []
    },
    {
      "cell_type": "code",
      "metadata": {
        "colab": {
          "base_uri": "https://localhost:8080/",
          "height": 281
        },
        "id": "gnl8Zl3EWNNz",
        "outputId": "50eb785b-9667-44cb-eb61-148a984c0fd5"
      },
      "source": [
        "# compared the actual and predicted ground vibration\n",
        "plt.plot(y_test, label = \"Actual vibration\")\n",
        "plt.plot(y_predc_regress, label = \"Predicted vibration\")\n",
        "plt.legend()\n",
        "plt.title(\"Result comparasion\")\n",
        "plt.show()"
      ],
      "execution_count": 90,
      "outputs": [
        {
          "output_type": "display_data",
          "data": {
            "image/png": "[encoded data removed]",
            "text/plain": [
              "<Figure size 432x288 with 1 Axes>"
            ]
          },
          "metadata": {
            "tags": [],
            "needs_background": "light"
          }
        }
      ]
    }
  ]
}